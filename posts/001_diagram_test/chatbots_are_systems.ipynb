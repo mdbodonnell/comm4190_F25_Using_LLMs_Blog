{
 "cells": [
  {
   "cell_type": "raw",
   "id": "4e4e1503-0194-4313-a73a-12c3026d159f",
   "metadata": {},
   "source": [
    "---\n",
    "title: \"# Chatbots are systems not just LLMs\"\n",
    "description: \"An example post from a Jupyter notebook\"\n",
    "author: \"An LLM User\"\n",
    "date: \"9/9/2025\"\n",
    "categories:\n",
    "  - LLMs\n",
    "  - ChatGPT\n",
    "  - systems\n",
    "  - diagram\n",
    "---\n"
   ]
  },
  {
   "cell_type": "markdown",
   "id": "5c55c211-f066-4c39-be5e-5a59b28408c0",
   "metadata": {},
   "source": [
    "### Chating with an LLM"
   ]
  },
  {
   "cell_type": "markdown",
   "id": "20334783-a5fc-407c-bba0-c874865d80cd",
   "metadata": {},
   "source": [
    "```mermaid\n",
    "\n",
    "    sequenceDiagram\n",
    "        actor U as User\n",
    "        box rgb(255,255,191) ChatGPT\n",
    "        participant L as LLM\n",
    "        end\n",
    "        \n",
    "        U ->> L: Why is the sky blue?\n",
    "        L ->> U: The sky appears blue primarily because of a phenomenon called Rayleigh scattering. When su....\n",
    "        U ->> L: Make it a haiku\n",
    "        L ->> U: Sunlight scatters wide,<br/>Blue dances through the clear sky,<br/>Day’s bright, azure sigh.\n",
    "\n",
    "```\n"
   ]
  },
  {
   "cell_type": "code",
   "execution_count": null,
   "id": "3b9c9d8e-cb21-4d24-9aa1-4066cfeabe0d",
   "metadata": {},
   "outputs": [],
   "source": []
  }
 ],
 "metadata": {
  "kernelspec": {
   "display_name": "Python 3-12 (COMM4190)",
   "language": "python",
   "name": "python3-12_comm4190"
  },
  "language_info": {
   "codemirror_mode": {
    "name": "ipython",
    "version": 3
   },
   "file_extension": ".py",
   "mimetype": "text/x-python",
   "name": "python",
   "nbconvert_exporter": "python",
   "pygments_lexer": "ipython3",
   "version": "3.12.11"
  }
 },
 "nbformat": 4,
 "nbformat_minor": 5
}
